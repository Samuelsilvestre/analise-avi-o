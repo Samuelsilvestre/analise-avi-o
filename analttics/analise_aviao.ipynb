{
 "cells": [
  {
   "cell_type": "code",
   "execution_count": 11,
   "metadata": {},
   "outputs": [],
   "source": [
    "import os\n",
    "import pandas as pd"
   ]
  },
  {
   "cell_type": "markdown",
   "metadata": {},
   "source": [
    "# Processando e manupulando a tabela\n",
    "transformando as 2 tabelas em uma unica tabela"
   ]
  },
  {
   "cell_type": "code",
   "execution_count": 27,
   "metadata": {},
   "outputs": [],
   "source": [
    "PATH1 = os.path.join('.\\\\..\\\\data\\\\dataset_aviao_1.csv')\n",
    "PATH2 = os.path.join('.\\\\..\\\\data\\\\dataset_aviao_2.csv')\n",
    "\n",
    "df1 = pd.read_csv(PATH1)\n",
    "df2 = pd.read_csv(PATH2)\n",
    "\n",
    "df = pd.concat([df1,df2], axis=0, ignore_index=True)"
   ]
  },
  {
   "cell_type": "markdown",
   "metadata": {},
   "source": [
    "# Verificando os tipos de dados"
   ]
  },
  {
   "cell_type": "code",
   "execution_count": 32,
   "metadata": {},
   "outputs": [
    {
     "data": {
      "text/plain": [
       "Fabricante                        object\n",
       "Modelo                            object\n",
       "Teto de Voo (m)                  float64\n",
       "Capacidade de Carga (ton)        float64\n",
       "Desempenho - Distância (km)      float64\n",
       "Consumo de Combustível (kg/h)    float64\n",
       "dtype: object"
      ]
     },
     "execution_count": 32,
     "metadata": {},
     "output_type": "execute_result"
    }
   ],
   "source": [
    "df.dtypes"
   ]
  }
 ],
 "metadata": {
  "kernelspec": {
   "display_name": "Python 3",
   "language": "python",
   "name": "python3"
  },
  "language_info": {
   "codemirror_mode": {
    "name": "ipython",
    "version": 3
   },
   "file_extension": ".py",
   "mimetype": "text/x-python",
   "name": "python",
   "nbconvert_exporter": "python",
   "pygments_lexer": "ipython3",
   "version": "3.12.4"
  }
 },
 "nbformat": 4,
 "nbformat_minor": 2
}
